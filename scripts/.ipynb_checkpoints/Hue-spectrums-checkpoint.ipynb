{
 "metadata": {
  "name": "",
  "signature": "sha256:ddc4283843744f51aecf465306cd5c13d398dd5306a4f78d68990b0dfe652e8a"
 },
 "nbformat": 3,
 "nbformat_minor": 0,
 "worksheets": [
  {
   "cells": [
    {
     "cell_type": "heading",
     "level": 1,
     "metadata": {},
     "source": [
      "Hue spectrum analysis using OpenCV"
     ]
    },
    {
     "cell_type": "markdown",
     "metadata": {},
     "source": [
      "References:\n",
      "<p>\n",
      "http://www.december.com/html/spec/colorhsl.html\n",
      "<br>\n",
      "http://www.on-the-matrix.com/webtools/HtmlColorCodes.aspx\n"
     ]
    },
    {
     "cell_type": "code",
     "collapsed": false,
     "input": [
      "import os\n",
      "import cv2\n",
      "import csv\n",
      "from pylab import *\n",
      "import scipy\n",
      "import scipy.misc\n",
      "from scipy import stats\n",
      "from PIL import Image\n",
      "from skimage.util.shape import view_as_blocks, view_as_windows\n",
      "%matplotlib inline"
     ],
     "language": "python",
     "metadata": {},
     "outputs": [],
     "prompt_number": 1
    },
    {
     "cell_type": "code",
     "collapsed": false,
     "input": [
      "hue_spectrum = ones((400,200))\n",
      "step_size = 15\n",
      "for i in arange(0,180-step_size,step_size):\n",
      "    hue_spectrum = hstack((hue_spectrum, (i+step_size)*ones((400,200))))"
     ],
     "language": "python",
     "metadata": {},
     "outputs": [],
     "prompt_number": 2
    },
    {
     "cell_type": "code",
     "collapsed": false,
     "input": [
      "sat = (256/2.)*ones(hue_spectrum.shape)\n",
      "value = (240)*ones(hue_spectrum.shape)\n",
      "hsv = zeros((hue_spectrum.shape[0], hue_spectrum.shape[1], 3))\n",
      "hsv[:,:,0] = hue_spectrum\n",
      "hsv[:,:,1] = sat\n",
      "hsv[:,:,2] = value\n",
      "hsv = array(hsv, dtype = uint8)"
     ],
     "language": "python",
     "metadata": {},
     "outputs": [],
     "prompt_number": 3
    },
    {
     "cell_type": "code",
     "collapsed": false,
     "input": [
      "fig, axes = plt.subplots(figsize=(16,8))\n",
      "\n",
      "imshow(cv2.cvtColor(hsv, cv2.COLOR_HSV2RGB))"
     ],
     "language": "python",
     "metadata": {},
     "outputs": [
      {
       "metadata": {},
       "output_type": "pyout",
       "prompt_number": 4,
       "text": [
        "<matplotlib.image.AxesImage at 0x10a8ac9d0>"
       ]
      },
      {
       "metadata": {},
       "output_type": "display_data",
       "png": "[encoded data removed]",
       "text": [
        "<matplotlib.figure.Figure at 0x10a8ac810>"
       ]
      }
     ],
     "prompt_number": 4
    },
    {
     "cell_type": "code",
     "collapsed": false,
     "input": [
      "cv2.imwrite(\"spectrum.png\", cv2.cvtColor(hsv, cv2.COLOR_HSV2BGR))"
     ],
     "language": "python",
     "metadata": {},
     "outputs": [
      {
       "metadata": {},
       "output_type": "pyout",
       "prompt_number": 8,
       "text": [
        "True"
       ]
      }
     ],
     "prompt_number": 8
    },
    {
     "cell_type": "code",
     "collapsed": false,
     "input": [],
     "language": "python",
     "metadata": {},
     "outputs": []
    }
   ],
   "metadata": {}
  }
 ]
}